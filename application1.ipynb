{
 "cells": [
  {
   "cell_type": "code",
   "execution_count": null,
   "metadata": {},
   "outputs": [],
   "source": [
    "import json\n",
    "from difflib import get_close_matches\n",
    "data=json.load(open(\"1.2 data.json.json\"))\n",
    "\n",
    "def translate(w):\n",
    "    w=w.lower()\n",
    "    if w in data:\n",
    "        return data[w]\n",
    "    elif len(get_close_matches(w,data.keys())) > 0:\n",
    "        yn=input(\"Did you mean %s instead ?Enter 'Y' for yes or 'N' for no: \" % get_close_matches(w,data.keys())[0])\n",
    "        if yn=='Y':\n",
    "            return data[get_close_matches(w,data.keys())[0]]\n",
    "        elif yn=='N':\n",
    "            return \"The word does not exist.Please double check it\"\n",
    "        else:\n",
    "            return \"Sorry we didn't understand your entry\"\n",
    "    else:\n",
    "        return \"The word does not exist.Please double check it\"\n",
    "word=input(\"Enter a word: \")\n",
    "output=(translate(word))\n",
    "if type(output)==list:\n",
    "    for item in output:\n",
    "        print(item)\n",
    "else:\n",
    "    print(output)"
   ]
  },
  {
   "cell_type": "code",
   "execution_count": null,
   "metadata": {},
   "outputs": [],
   "source": []
  }
 ],
 "metadata": {
  "kernelspec": {
   "display_name": "Python 3",
   "language": "python",
   "name": "python3"
  },
  "language_info": {
   "codemirror_mode": {
    "name": "ipython",
    "version": 3
   },
   "file_extension": ".py",
   "mimetype": "text/x-python",
   "name": "python",
   "nbconvert_exporter": "python",
   "pygments_lexer": "ipython3",
   "version": "3.7.3"
  }
 },
 "nbformat": 4,
 "nbformat_minor": 2
}
